{
 "cells": [
  {
   "cell_type": "code",
   "execution_count": 1,
   "metadata": {},
   "outputs": [
    {
     "name": "stderr",
     "output_type": "stream",
     "text": [
      "Failed to detect the name of this notebook, you can set it manually with the WANDB_NOTEBOOK_NAME environment variable to enable code saving.\n",
      "\u001b[34m\u001b[1mwandb\u001b[0m: Currently logged in as: \u001b[33mb23ee1006\u001b[0m (\u001b[33mb23ee1006-indian-institute-of-technology-jodhpur\u001b[0m). Use \u001b[1m`wandb login --relogin`\u001b[0m to force relogin\n"
     ]
    }
   ],
   "source": [
    "import numpy as np\n",
    "import torch\n",
    "import torch.nn as nn\n",
    "import torch.nn.functional as F\n",
    "import torchvision\n",
    "import torch.optim as optim\n",
    "from torchvision import transforms\n",
    "from torch.utils.data import DataLoader, random_split\n",
    "from tqdm import tqdm\n",
    "import wandb\n",
    "wandb.login()\n",
    "device = torch.device('cuda' if torch.cuda.is_available() else 'cpu')\n"
   ]
  },
  {
   "cell_type": "code",
   "execution_count": 2,
   "metadata": {},
   "outputs": [],
   "source": [
    "device=torch.device(\"cuda:0\"if torch.cuda.is_available() else \"cpu\")"
   ]
  },
  {
   "cell_type": "code",
   "execution_count": 3,
   "metadata": {},
   "outputs": [],
   "source": [
    "transform_train = transforms.Compose([\n",
    "    transforms.RandomRotation(degrees=(-10, 10)),  # Random rotation between -10 and 10 degrees\n",
    "    transforms.ToTensor(),                       # Converting img to tensor\n",
    "    transforms.Normalize((0.5,), (0.5,))         # Normalizing to 0.5 mean and std deviation\n",
    "])\n",
    "\n",
    "transform_test = transforms.Compose([\n",
    "    transforms.ToTensor(),                       # Converting img to tensor\n",
    "    transforms.Normalize((0.5,), (0.5,))         # Normalizing to 0.5 mean and std deviation\n",
    "])\n",
    "\n",
    "trainset = torchvision.datasets.MNIST(root='./data', train=True, download=True, transform=transform_train)\n",
    "testset = torchvision.datasets.MNIST(root='./data', train=False, download=True, transform=transform_test)\n",
    "\n",
    "train_size = int(0.8 * len(trainset)) #80-20 split between training data and cross-validation\n",
    "val_size = len(trainset) - train_size\n",
    "trainset, cvset = random_split(trainset, [train_size, val_size])\n",
    "\n",
    "batch_size=64\n",
    "train_loader = DataLoader(trainset, batch_size=batch_size, shuffle=True)  # Training DataLoader\n",
    "cv_loader = DataLoader(cvset, batch_size=batch_size, shuffle=False)  # Cross-validation DataLoader\n",
    "test_loader = DataLoader(testset, batch_size=batch_size, shuffle=False) # Test DataLoader\n",
    "\n"
   ]
  },
  {
   "cell_type": "code",
   "execution_count": 11,
   "metadata": {},
   "outputs": [
    {
     "name": "stdout",
     "output_type": "stream",
     "text": [
      "Number of parameters: 8205\n"
     ]
    }
   ],
   "source": [
    "class CNN(nn.Module):\n",
    "    def __init__(self):     #defining architecture\n",
    "        super(CNN, self).__init__()\n",
    "        self.conv1 = nn.Conv2d(in_channels=1, out_channels=12, kernel_size=3, stride=1, padding=0)\n",
    "        self.bn1 = nn.BatchNorm2d(12)\n",
    "        self.conv2 = nn.Conv2d(in_channels=12, out_channels=13, kernel_size=3, stride=1, padding=0)\n",
    "        self.bn2 = nn.BatchNorm2d(13)\n",
    "        self.pool = nn.MaxPool2d(kernel_size=2, stride=2)\n",
    "        self.conv3 = nn.Conv2d(in_channels=13, out_channels=14, kernel_size=3, stride=1, padding=0)\n",
    "        self.bn3 = nn.BatchNorm2d(14)\n",
    "        self.conv4 = nn.Conv2d(in_channels=14, out_channels=16, kernel_size=3, stride=1, padding=0)\n",
    "        self.bn4 = nn.BatchNorm2d(16)\n",
    "        self.conv5=nn.Conv2d(in_channels=16, out_channels=16, kernel_size=1, stride=1, padding=0)\n",
    "        self.bn5 = nn.BatchNorm2d(16)\n",
    "        self.fc = nn.Linear(16* 4 * 4, 10)\n",
    "        self.dropout = nn.Dropout(p=0.2)\n",
    "        # self.dropout2 = nn.Dropout(p=0.15)\n",
    "\n",
    "    def forward(self, x):                       #forward prop steps\n",
    "        x = F.leaky_relu(self.bn1(self.conv1(x)))\n",
    "        x = F.leaky_relu(self.bn2(self.conv2(x)))\n",
    "        x = self.pool(x)\n",
    "        # x= self.dropout2(x)\n",
    "        x = F.leaky_relu(self.bn3(self.conv3(x)))\n",
    "        x = F.leaky_relu(self.bn4(self.conv4(x)))\n",
    "        x = F.leaky_relu(self.bn5(self.conv5(x)))\n",
    "        x = self.pool(x)\n",
    "        x = x.view(x.size(0), -1)  # Flattening the tensor\n",
    "        x = self.dropout(x)\n",
    "        x = self.fc(x)\n",
    "        \n",
    "        return F.softmax(x, dim=1)\n",
    "\n",
    "\n",
    "# Creating instance of the model\n",
    "model = CNN().to(device)\n",
    "\n",
    "# Defining optimizer as Adam and loss function as CrossEntropy\n",
    "optimizer = optim.Adam(model.parameters(), lr=0.0008)\n",
    "criterion = nn.CrossEntropyLoss()\n",
    "\n",
    "\n",
    "num_params = sum(p.numel() for p in model.parameters() if p.requires_grad)\n",
    "print(f'Number of parameters: {num_params}')      #printing number of params\n",
    "\n",
    "\n"
   ]
  },
  {
   "cell_type": "code",
   "execution_count": 12,
   "metadata": {},
   "outputs": [
    {
     "data": {
      "text/html": [
       "Finishing last run (ID:kw6opmwm) before initializing another..."
      ],
      "text/plain": [
       "<IPython.core.display.HTML object>"
      ]
     },
     "metadata": {},
     "output_type": "display_data"
    },
    {
     "data": {
      "text/html": [
       " View run <strong style=\"color:#cdcd00\">denim-sun-18</strong> at: <a href='https://wandb.ai/b23ee1006-indian-institute-of-technology-jodhpur/MNIST%20improvement/runs/kw6opmwm' target=\"_blank\">https://wandb.ai/b23ee1006-indian-institute-of-technology-jodhpur/MNIST%20improvement/runs/kw6opmwm</a><br/> View project at: <a href='https://wandb.ai/b23ee1006-indian-institute-of-technology-jodhpur/MNIST%20improvement' target=\"_blank\">https://wandb.ai/b23ee1006-indian-institute-of-technology-jodhpur/MNIST%20improvement</a><br/>Synced 5 W&B file(s), 0 media file(s), 0 artifact file(s) and 0 other file(s)"
      ],
      "text/plain": [
       "<IPython.core.display.HTML object>"
      ]
     },
     "metadata": {},
     "output_type": "display_data"
    },
    {
     "data": {
      "text/html": [
       "Find logs at: <code>.\\wandb\\run-20240810_135529-kw6opmwm\\logs</code>"
      ],
      "text/plain": [
       "<IPython.core.display.HTML object>"
      ]
     },
     "metadata": {},
     "output_type": "display_data"
    },
    {
     "data": {
      "text/html": [
       "The new W&B backend becomes opt-out in version 0.18.0; try it out with `wandb.require(\"core\")`! See https://wandb.me/wandb-core for more information."
      ],
      "text/plain": [
       "<IPython.core.display.HTML object>"
      ]
     },
     "metadata": {},
     "output_type": "display_data"
    },
    {
     "data": {
      "text/html": [
       "Successfully finished last run (ID:kw6opmwm). Initializing new run:<br/>"
      ],
      "text/plain": [
       "<IPython.core.display.HTML object>"
      ]
     },
     "metadata": {},
     "output_type": "display_data"
    },
    {
     "data": {
      "text/html": [
       "wandb version 0.17.6 is available!  To upgrade, please run:\n",
       " $ pip install wandb --upgrade"
      ],
      "text/plain": [
       "<IPython.core.display.HTML object>"
      ]
     },
     "metadata": {},
     "output_type": "display_data"
    },
    {
     "data": {
      "text/html": [
       "Tracking run with wandb version 0.17.5"
      ],
      "text/plain": [
       "<IPython.core.display.HTML object>"
      ]
     },
     "metadata": {},
     "output_type": "display_data"
    },
    {
     "data": {
      "text/html": [
       "Run data is saved locally in <code>c:\\Users\\honpa\\OneDrive\\Desktop\\Programming\\ml practice\\Codes\\wandb\\run-20240810_135610-g03na1yp</code>"
      ],
      "text/plain": [
       "<IPython.core.display.HTML object>"
      ]
     },
     "metadata": {},
     "output_type": "display_data"
    },
    {
     "data": {
      "text/html": [
       "Syncing run <strong><a href='https://wandb.ai/b23ee1006-indian-institute-of-technology-jodhpur/MNIST%20improvement/runs/g03na1yp' target=\"_blank\">chocolate-glade-19</a></strong> to <a href='https://wandb.ai/b23ee1006-indian-institute-of-technology-jodhpur/MNIST%20improvement' target=\"_blank\">Weights & Biases</a> (<a href='https://wandb.me/run' target=\"_blank\">docs</a>)<br/>"
      ],
      "text/plain": [
       "<IPython.core.display.HTML object>"
      ]
     },
     "metadata": {},
     "output_type": "display_data"
    },
    {
     "data": {
      "text/html": [
       " View project at <a href='https://wandb.ai/b23ee1006-indian-institute-of-technology-jodhpur/MNIST%20improvement' target=\"_blank\">https://wandb.ai/b23ee1006-indian-institute-of-technology-jodhpur/MNIST%20improvement</a>"
      ],
      "text/plain": [
       "<IPython.core.display.HTML object>"
      ]
     },
     "metadata": {},
     "output_type": "display_data"
    },
    {
     "data": {
      "text/html": [
       " View run at <a href='https://wandb.ai/b23ee1006-indian-institute-of-technology-jodhpur/MNIST%20improvement/runs/g03na1yp' target=\"_blank\">https://wandb.ai/b23ee1006-indian-institute-of-technology-jodhpur/MNIST%20improvement/runs/g03na1yp</a>"
      ],
      "text/plain": [
       "<IPython.core.display.HTML object>"
      ]
     },
     "metadata": {},
     "output_type": "display_data"
    },
    {
     "name": "stderr",
     "output_type": "stream",
     "text": [
      "Epoch 1/15: 100%|██████████| 750/750 [00:36<00:00, 20.69it/s]\n",
      "Epoch 2/15: 100%|██████████| 750/750 [00:35<00:00, 20.90it/s]\n",
      "Epoch 3/15: 100%|██████████| 750/750 [00:51<00:00, 14.54it/s]\n",
      "Epoch 4/15: 100%|██████████| 750/750 [01:09<00:00, 10.86it/s]\n",
      "Epoch 5/15: 100%|██████████| 750/750 [01:14<00:00, 10.09it/s]\n",
      "Epoch 6/15: 100%|██████████| 750/750 [00:56<00:00, 13.32it/s]\n",
      "Epoch 7/15: 100%|██████████| 750/750 [00:35<00:00, 21.17it/s]\n",
      "Epoch 8/15: 100%|██████████| 750/750 [00:48<00:00, 15.45it/s]\n",
      "Epoch 9/15: 100%|██████████| 750/750 [01:04<00:00, 11.71it/s]\n",
      "Epoch 10/15: 100%|██████████| 750/750 [01:08<00:00, 11.01it/s]\n",
      "Epoch 11/15: 100%|██████████| 750/750 [01:13<00:00, 10.21it/s]\n",
      "Epoch 12/15: 100%|██████████| 750/750 [01:01<00:00, 12.13it/s]\n",
      "Epoch 13/15: 100%|██████████| 750/750 [01:02<00:00, 11.92it/s]\n",
      "Epoch 14/15: 100%|██████████| 750/750 [00:56<00:00, 13.39it/s]\n",
      "Epoch 15/15: 100%|██████████| 750/750 [01:05<00:00, 11.44it/s]\n"
     ]
    },
    {
     "name": "stdout",
     "output_type": "stream",
     "text": [
      "Test Accuracy: 0.9915\n"
     ]
    },
    {
     "data": {
      "text/html": [
       "<style>\n",
       "    table.wandb td:nth-child(1) { padding: 0 10px; text-align: left ; width: auto;} td:nth-child(2) {text-align: left ; width: 100%}\n",
       "    .wandb-row { display: flex; flex-direction: row; flex-wrap: wrap; justify-content: flex-start; width: 100% }\n",
       "    .wandb-col { display: flex; flex-direction: column; flex-basis: 100%; flex: 1; padding: 10px; }\n",
       "    </style>\n",
       "<div class=\"wandb-row\"><div class=\"wandb-col\"><h3>Run history:</h3><br/><table class=\"wandb\"><tr><td>Test Accuracy</td><td>▁</td></tr><tr><td>Test Loss</td><td>▁</td></tr><tr><td>Train Accuracy</td><td>▁▇▇▇███████████</td></tr><tr><td>Train Loss</td><td>█▂▂▂▁▁▁▁▁▁▁▁▁▁▁</td></tr><tr><td>Validation Accuracy</td><td>▁▄▅▆▆▆▇▇▇▇███▇█</td></tr><tr><td>Validation Loss</td><td>█▅▄▃▃▂▂▂▂▂▁▁▁▂▁</td></tr></table><br/></div><div class=\"wandb-col\"><h3>Run summary:</h3><br/><table class=\"wandb\"><tr><td>Test Accuracy</td><td>0.9915</td></tr><tr><td>Test Loss</td><td>1.46983</td></tr><tr><td>Train Accuracy</td><td>0.98554</td></tr><tr><td>Train Loss</td><td>1.47668</td></tr><tr><td>Validation Accuracy</td><td>0.98725</td></tr><tr><td>Validation Loss</td><td>1.47443</td></tr></table><br/></div></div>"
      ],
      "text/plain": [
       "<IPython.core.display.HTML object>"
      ]
     },
     "metadata": {},
     "output_type": "display_data"
    },
    {
     "data": {
      "text/html": [
       " View run <strong style=\"color:#cdcd00\">chocolate-glade-19</strong> at: <a href='https://wandb.ai/b23ee1006-indian-institute-of-technology-jodhpur/MNIST%20improvement/runs/g03na1yp' target=\"_blank\">https://wandb.ai/b23ee1006-indian-institute-of-technology-jodhpur/MNIST%20improvement/runs/g03na1yp</a><br/> View project at: <a href='https://wandb.ai/b23ee1006-indian-institute-of-technology-jodhpur/MNIST%20improvement' target=\"_blank\">https://wandb.ai/b23ee1006-indian-institute-of-technology-jodhpur/MNIST%20improvement</a><br/>Synced 5 W&B file(s), 0 media file(s), 0 artifact file(s) and 0 other file(s)"
      ],
      "text/plain": [
       "<IPython.core.display.HTML object>"
      ]
     },
     "metadata": {},
     "output_type": "display_data"
    },
    {
     "data": {
      "text/html": [
       "Find logs at: <code>.\\wandb\\run-20240810_135610-g03na1yp\\logs</code>"
      ],
      "text/plain": [
       "<IPython.core.display.HTML object>"
      ]
     },
     "metadata": {},
     "output_type": "display_data"
    },
    {
     "data": {
      "text/html": [
       "The new W&B backend becomes opt-out in version 0.18.0; try it out with `wandb.require(\"core\")`! See https://wandb.me/wandb-core for more information."
      ],
      "text/plain": [
       "<IPython.core.display.HTML object>"
      ]
     },
     "metadata": {},
     "output_type": "display_data"
    }
   ],
   "source": [
    "\n",
    "wandb.init(project='MNIST improvement')\n",
    "epochs=15\n",
    "for epoch in range(epochs):\n",
    "    model.train()\n",
    "    train_loss = 0.0\n",
    "    correct_train = 0\n",
    "\n",
    "    for inputs, targets in tqdm(train_loader, desc=f'Epoch {epoch + 1}/{epochs}'):\n",
    "        inputs, targets = inputs.to(device), targets.to(device)\n",
    "        optimizer.zero_grad()     #resetting gradients to 0\n",
    "        outputs = model(inputs)\n",
    "        loss = criterion(outputs, targets)\n",
    "        loss.backward()     #backprop\n",
    "        optimizer.step()    #taking one optimization step\n",
    "\n",
    "        train_loss += loss.item() * inputs.size(0)\n",
    "        _, predicted = torch.max(outputs, 1)\n",
    "        correct_train += (predicted == targets).sum().item()\n",
    "\n",
    "    train_loss /= len(train_loader.dataset)\n",
    "    train_accuracy = correct_train / len(train_loader.dataset)\n",
    "\n",
    "    # Log training loss and accuracy\n",
    "    wandb.log({'Train Loss': train_loss, 'Train Accuracy': train_accuracy})\n",
    "\n",
    "    # Validation loop\n",
    "    model.eval()\n",
    "    val_loss = 0.0\n",
    "    correct_val = 0\n",
    "\n",
    "    with torch.no_grad():\n",
    "        for inputs, targets in cv_loader:\n",
    "            inputs, targets = inputs.to(device), targets.to(device)\n",
    "            outputs = model(inputs)\n",
    "            loss = criterion(outputs, targets)\n",
    "            val_loss += loss.item() * inputs.size(0)\n",
    "            _, predicted = torch.max(outputs, 1)\n",
    "            correct_val += (predicted == targets).sum().item()\n",
    "\n",
    "    val_loss /= len(cv_loader.dataset)\n",
    "    val_accuracy = correct_val / len(cv_loader.dataset)\n",
    "\n",
    "    # Log validation loss and accuracy\n",
    "    wandb.log({'Validation Loss': val_loss, 'Validation Accuracy': val_accuracy})\n",
    "\n",
    "\n",
    "# Testing loop\n",
    "model.eval()\n",
    "test_loss = 0.0\n",
    "correct_test = 0\n",
    "\n",
    "with torch.no_grad():\n",
    "    for inputs, targets in test_loader:\n",
    "        inputs, targets = inputs.to(device), targets.to(device)\n",
    "        outputs = model(inputs)\n",
    "        loss = criterion(outputs, targets)\n",
    "        test_loss += loss.item() * inputs.size(0)\n",
    "        _, predicted = torch.max(outputs, 1)\n",
    "        correct_test += (predicted == targets).sum().item()\n",
    "\n",
    "test_loss /= len(test_loader.dataset)\n",
    "test_accuracy = correct_test / len(test_loader.dataset)\n",
    "\n",
    "# Log test loss and accuracy\n",
    "wandb.log({'Test Loss': test_loss, 'Test Accuracy': test_accuracy})\n",
    "\n",
    "# Print final test accuracy\n",
    "print(f'Test Accuracy: {test_accuracy:.4f}')\n",
    "\n",
    "# Finish wandb run\n",
    "wandb.finish()"
   ]
  },
  {
   "cell_type": "code",
   "execution_count": null,
   "metadata": {},
   "outputs": [],
   "source": []
  }
 ],
 "metadata": {
  "kernelspec": {
   "display_name": "Python 3",
   "language": "python",
   "name": "python3"
  },
  "language_info": {
   "codemirror_mode": {
    "name": "ipython",
    "version": 3
   },
   "file_extension": ".py",
   "mimetype": "text/x-python",
   "name": "python",
   "nbconvert_exporter": "python",
   "pygments_lexer": "ipython3",
   "version": "3.12.4"
  }
 },
 "nbformat": 4,
 "nbformat_minor": 2
}
